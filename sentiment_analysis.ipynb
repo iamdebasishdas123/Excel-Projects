{
  "nbformat": 4,
  "nbformat_minor": 0,
  "metadata": {
    "colab": {
      "provenance": [],
      "authorship_tag": "ABX9TyOlZxOU3wxO2suy8Jvfs8v2",
      "include_colab_link": true
    },
    "kernelspec": {
      "name": "python3",
      "display_name": "Python 3"
    },
    "language_info": {
      "name": "python"
    }
  },
  "cells": [
    {
      "cell_type": "markdown",
      "metadata": {
        "id": "view-in-github",
        "colab_type": "text"
      },
      "source": [
        "<a href=\"https://colab.research.google.com/github/iamdebasishdas123/Sales-Report-of-a-Shop/blob/main/sentiment_analysis.ipynb\" target=\"_parent\"><img src=\"https://colab.research.google.com/assets/colab-badge.svg\" alt=\"Open In Colab\"/></a>"
      ]
    },
    {
      "cell_type": "code",
      "execution_count": null,
      "metadata": {
        "id": "Akg4u1ZB5uTe"
      },
      "outputs": [],
      "source": [
        "import nlpcloud\n",
        "\n",
        "class NLPApp:\n",
        "\n",
        "  def __init__(self):\n",
        "    self.__database = {}\n",
        "    self.__first_menu()\n",
        "\n",
        "  def __first_menu(self):\n",
        "    first_input = input(\"\"\"\n",
        "    Hi! how would you like to proceed?\n",
        "    1. Not a member? Register\n",
        "    2. Already a member? Login\n",
        "    3. Galti se aa gaye? Exit\n",
        "    \"\"\")\n",
        "\n",
        "    if first_input=='1':\n",
        "        self.__register()\n",
        "    elif first_input=='2':\n",
        "        self.__login()\n",
        "    else:\n",
        "        exit()\n",
        "\n",
        "  def __second_menu(self):\n",
        "    second_input = input(\"\"\"\n",
        "    HI! how would you like to proceed?\n",
        "    1. Sentiment Analysis\n",
        "    2. Logout\n",
        "    \"\"\")\n",
        "    if second_input == '1':\n",
        "        self.__sentiment_analysis()\n",
        "    else:\n",
        "        exit()\n",
        "\n",
        "  def __register(self):\n",
        "    name = input(\"enter name\")\n",
        "    email = input(\"enter email \")\n",
        "    password = input(\"enter password\")\n",
        "    if email in self.__database:\n",
        "        print(\"email id already exists in the database \")\n",
        "    else:\n",
        "        self.__database[email] = [name, password]\n",
        "        print(\"successful registration \")\n",
        "        print(self.__database)\n",
        "        self.__login()\n",
        "\n",
        "  def __login(self):\n",
        "    email = input(\"enter email\")\n",
        "    password = input(\"enter password\")\n",
        "    if email in self.__database:\n",
        "        if self.__database[email][1] == password:\n",
        "            print(\"login successful\")\n",
        "            self.__second_menu()\n",
        "        else:\n",
        "            print(\"password incorrect\")\n",
        "            self.__login()\n",
        "    else:\n",
        "        print(\"email is not registered\")\n",
        "        self.__first_menu()\n",
        "\n",
        "  def __sentiment_analysis(self):\n",
        "    para = input('enter the paragraph')\n",
        "\n",
        "    client = nlpcloud.Client(\"distilbert-base-uncased-emotion\", \"2b58d7fb9af09e617ee525e78c7766b6d8c5bb61\", gpu=False, lang=\"en\")\n",
        "    response = client.sentiment(para)\n",
        "\n",
        "    L = []\n",
        "    for i in response['scored_labels']:\n",
        "      L.append(i['score'])\n",
        "    index = sorted(list(enumerate(L)), key=lambda x: x[1], reverse=True)[0][0]\n",
        "\n",
        "    print(response['scored_labels'][index]['label'])\n",
        "    self.__second_menu()\n",
        "\n",
        "obj = NLPApp()\n",
        "1"
      ]
    },
    {
      "cell_type": "code",
      "source": [
        "!pip install nlpcloud"
      ],
      "metadata": {
        "colab": {
          "base_uri": "https://localhost:8080/"
        },
        "id": "WtlqfLKK6Dr8",
        "outputId": "b3aa6e12-fc00-43be-ec4b-74521a4232db"
      },
      "execution_count": 2,
      "outputs": [
        {
          "output_type": "stream",
          "name": "stdout",
          "text": [
            "Collecting nlpcloud\n",
            "  Downloading nlpcloud-1.1.45-py3-none-any.whl (3.9 kB)\n",
            "Requirement already satisfied: requests in /usr/local/lib/python3.10/dist-packages (from nlpcloud) (2.31.0)\n",
            "Requirement already satisfied: charset-normalizer<4,>=2 in /usr/local/lib/python3.10/dist-packages (from requests->nlpcloud) (3.3.2)\n",
            "Requirement already satisfied: idna<4,>=2.5 in /usr/local/lib/python3.10/dist-packages (from requests->nlpcloud) (3.6)\n",
            "Requirement already satisfied: urllib3<3,>=1.21.1 in /usr/local/lib/python3.10/dist-packages (from requests->nlpcloud) (2.0.7)\n",
            "Requirement already satisfied: certifi>=2017.4.17 in /usr/local/lib/python3.10/dist-packages (from requests->nlpcloud) (2023.11.17)\n",
            "Installing collected packages: nlpcloud\n",
            "Successfully installed nlpcloud-1.1.45\n"
          ]
        }
      ]
    }
  ]
}